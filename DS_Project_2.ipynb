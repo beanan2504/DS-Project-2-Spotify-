{
 "cells": [
  {
   "cell_type": "markdown",
   "id": "f83ee7cd",
   "metadata": {},
   "source": [
    "## Spotify Tracks Genre Dataset Research\n",
    "\n",
    "Considering Spotify Wrapped just came out, I think we can all say we are excited to look at the top Spotify tracks, what genres were the most popular, and overall how certain artists grew throughout this year! In the dataset I have downloaded (from a lovely maharshipandya on kaggle), I will be looking at what the most popular songs were, what genres were the most popular, the danceability and energy of each song, and more! \n",
    "\n",
    "Here is a list of the main questions I will be looking to answer:\n",
    "\n",
    "1.) What was the most popular song this year?\n",
    "2.) Who wrote this song, how long was it, and what album is it in?\n",
    "3.) What genre was it?\n",
    "4.) On average, how long were songs this year?\n",
    "5.) What was the most common genre of song this year?\n",
    "6.) What was the average danceability of this dataset? Energy?"
   ]
  },
  {
   "cell_type": "code",
   "execution_count": 73,
   "id": "1240ca3c",
   "metadata": {},
   "outputs": [
    {
     "data": {
      "text/html": [
       "<div>\n",
       "<style scoped>\n",
       "    .dataframe tbody tr th:only-of-type {\n",
       "        vertical-align: middle;\n",
       "    }\n",
       "\n",
       "    .dataframe tbody tr th {\n",
       "        vertical-align: top;\n",
       "    }\n",
       "\n",
       "    .dataframe thead th {\n",
       "        text-align: right;\n",
       "    }\n",
       "</style>\n",
       "<table border=\"1\" class=\"dataframe\">\n",
       "  <thead>\n",
       "    <tr style=\"text-align: right;\">\n",
       "      <th></th>\n",
       "      <th>Unnamed: 0</th>\n",
       "      <th>track_id</th>\n",
       "      <th>artists</th>\n",
       "      <th>album_name</th>\n",
       "      <th>track_name</th>\n",
       "      <th>popularity</th>\n",
       "      <th>duration_ms</th>\n",
       "      <th>explicit</th>\n",
       "      <th>danceability</th>\n",
       "      <th>energy</th>\n",
       "      <th>...</th>\n",
       "      <th>loudness</th>\n",
       "      <th>mode</th>\n",
       "      <th>speechiness</th>\n",
       "      <th>acousticness</th>\n",
       "      <th>instrumentalness</th>\n",
       "      <th>liveness</th>\n",
       "      <th>valence</th>\n",
       "      <th>tempo</th>\n",
       "      <th>time_signature</th>\n",
       "      <th>track_genre</th>\n",
       "    </tr>\n",
       "  </thead>\n",
       "  <tbody>\n",
       "    <tr>\n",
       "      <th>0</th>\n",
       "      <td>0</td>\n",
       "      <td>5SuOikwiRyPMVoIQDJUgSV</td>\n",
       "      <td>Gen Hoshino</td>\n",
       "      <td>Comedy</td>\n",
       "      <td>Comedy</td>\n",
       "      <td>73</td>\n",
       "      <td>230666</td>\n",
       "      <td>False</td>\n",
       "      <td>0.676</td>\n",
       "      <td>0.4610</td>\n",
       "      <td>...</td>\n",
       "      <td>-6.746</td>\n",
       "      <td>0</td>\n",
       "      <td>0.1430</td>\n",
       "      <td>0.0322</td>\n",
       "      <td>0.000001</td>\n",
       "      <td>0.3580</td>\n",
       "      <td>0.7150</td>\n",
       "      <td>87.917</td>\n",
       "      <td>4</td>\n",
       "      <td>acoustic</td>\n",
       "    </tr>\n",
       "    <tr>\n",
       "      <th>1</th>\n",
       "      <td>1</td>\n",
       "      <td>4qPNDBW1i3p13qLCt0Ki3A</td>\n",
       "      <td>Ben Woodward</td>\n",
       "      <td>Ghost (Acoustic)</td>\n",
       "      <td>Ghost - Acoustic</td>\n",
       "      <td>55</td>\n",
       "      <td>149610</td>\n",
       "      <td>False</td>\n",
       "      <td>0.420</td>\n",
       "      <td>0.1660</td>\n",
       "      <td>...</td>\n",
       "      <td>-17.235</td>\n",
       "      <td>1</td>\n",
       "      <td>0.0763</td>\n",
       "      <td>0.9240</td>\n",
       "      <td>0.000006</td>\n",
       "      <td>0.1010</td>\n",
       "      <td>0.2670</td>\n",
       "      <td>77.489</td>\n",
       "      <td>4</td>\n",
       "      <td>acoustic</td>\n",
       "    </tr>\n",
       "    <tr>\n",
       "      <th>2</th>\n",
       "      <td>2</td>\n",
       "      <td>1iJBSr7s7jYXzM8EGcbK5b</td>\n",
       "      <td>Ingrid Michaelson;ZAYN</td>\n",
       "      <td>To Begin Again</td>\n",
       "      <td>To Begin Again</td>\n",
       "      <td>57</td>\n",
       "      <td>210826</td>\n",
       "      <td>False</td>\n",
       "      <td>0.438</td>\n",
       "      <td>0.3590</td>\n",
       "      <td>...</td>\n",
       "      <td>-9.734</td>\n",
       "      <td>1</td>\n",
       "      <td>0.0557</td>\n",
       "      <td>0.2100</td>\n",
       "      <td>0.000000</td>\n",
       "      <td>0.1170</td>\n",
       "      <td>0.1200</td>\n",
       "      <td>76.332</td>\n",
       "      <td>4</td>\n",
       "      <td>acoustic</td>\n",
       "    </tr>\n",
       "    <tr>\n",
       "      <th>3</th>\n",
       "      <td>3</td>\n",
       "      <td>6lfxq3CG4xtTiEg7opyCyx</td>\n",
       "      <td>Kina Grannis</td>\n",
       "      <td>Crazy Rich Asians (Original Motion Picture Sou...</td>\n",
       "      <td>Can't Help Falling In Love</td>\n",
       "      <td>71</td>\n",
       "      <td>201933</td>\n",
       "      <td>False</td>\n",
       "      <td>0.266</td>\n",
       "      <td>0.0596</td>\n",
       "      <td>...</td>\n",
       "      <td>-18.515</td>\n",
       "      <td>1</td>\n",
       "      <td>0.0363</td>\n",
       "      <td>0.9050</td>\n",
       "      <td>0.000071</td>\n",
       "      <td>0.1320</td>\n",
       "      <td>0.1430</td>\n",
       "      <td>181.740</td>\n",
       "      <td>3</td>\n",
       "      <td>acoustic</td>\n",
       "    </tr>\n",
       "    <tr>\n",
       "      <th>4</th>\n",
       "      <td>4</td>\n",
       "      <td>5vjLSffimiIP26QG5WcN2K</td>\n",
       "      <td>Chord Overstreet</td>\n",
       "      <td>Hold On</td>\n",
       "      <td>Hold On</td>\n",
       "      <td>82</td>\n",
       "      <td>198853</td>\n",
       "      <td>False</td>\n",
       "      <td>0.618</td>\n",
       "      <td>0.4430</td>\n",
       "      <td>...</td>\n",
       "      <td>-9.681</td>\n",
       "      <td>1</td>\n",
       "      <td>0.0526</td>\n",
       "      <td>0.4690</td>\n",
       "      <td>0.000000</td>\n",
       "      <td>0.0829</td>\n",
       "      <td>0.1670</td>\n",
       "      <td>119.949</td>\n",
       "      <td>4</td>\n",
       "      <td>acoustic</td>\n",
       "    </tr>\n",
       "    <tr>\n",
       "      <th>...</th>\n",
       "      <td>...</td>\n",
       "      <td>...</td>\n",
       "      <td>...</td>\n",
       "      <td>...</td>\n",
       "      <td>...</td>\n",
       "      <td>...</td>\n",
       "      <td>...</td>\n",
       "      <td>...</td>\n",
       "      <td>...</td>\n",
       "      <td>...</td>\n",
       "      <td>...</td>\n",
       "      <td>...</td>\n",
       "      <td>...</td>\n",
       "      <td>...</td>\n",
       "      <td>...</td>\n",
       "      <td>...</td>\n",
       "      <td>...</td>\n",
       "      <td>...</td>\n",
       "      <td>...</td>\n",
       "      <td>...</td>\n",
       "      <td>...</td>\n",
       "    </tr>\n",
       "    <tr>\n",
       "      <th>113995</th>\n",
       "      <td>113995</td>\n",
       "      <td>2C3TZjDRiAzdyViavDJ217</td>\n",
       "      <td>Rainy Lullaby</td>\n",
       "      <td>#mindfulness - Soft Rain for Mindful Meditatio...</td>\n",
       "      <td>Sleep My Little Boy</td>\n",
       "      <td>21</td>\n",
       "      <td>384999</td>\n",
       "      <td>False</td>\n",
       "      <td>0.172</td>\n",
       "      <td>0.2350</td>\n",
       "      <td>...</td>\n",
       "      <td>-16.393</td>\n",
       "      <td>1</td>\n",
       "      <td>0.0422</td>\n",
       "      <td>0.6400</td>\n",
       "      <td>0.928000</td>\n",
       "      <td>0.0863</td>\n",
       "      <td>0.0339</td>\n",
       "      <td>125.995</td>\n",
       "      <td>5</td>\n",
       "      <td>world-music</td>\n",
       "    </tr>\n",
       "    <tr>\n",
       "      <th>113996</th>\n",
       "      <td>113996</td>\n",
       "      <td>1hIz5L4IB9hN3WRYPOCGPw</td>\n",
       "      <td>Rainy Lullaby</td>\n",
       "      <td>#mindfulness - Soft Rain for Mindful Meditatio...</td>\n",
       "      <td>Water Into Light</td>\n",
       "      <td>22</td>\n",
       "      <td>385000</td>\n",
       "      <td>False</td>\n",
       "      <td>0.174</td>\n",
       "      <td>0.1170</td>\n",
       "      <td>...</td>\n",
       "      <td>-18.318</td>\n",
       "      <td>0</td>\n",
       "      <td>0.0401</td>\n",
       "      <td>0.9940</td>\n",
       "      <td>0.976000</td>\n",
       "      <td>0.1050</td>\n",
       "      <td>0.0350</td>\n",
       "      <td>85.239</td>\n",
       "      <td>4</td>\n",
       "      <td>world-music</td>\n",
       "    </tr>\n",
       "    <tr>\n",
       "      <th>113997</th>\n",
       "      <td>113997</td>\n",
       "      <td>6x8ZfSoqDjuNa5SVP5QjvX</td>\n",
       "      <td>Cesária Evora</td>\n",
       "      <td>Best Of</td>\n",
       "      <td>Miss Perfumado</td>\n",
       "      <td>22</td>\n",
       "      <td>271466</td>\n",
       "      <td>False</td>\n",
       "      <td>0.629</td>\n",
       "      <td>0.3290</td>\n",
       "      <td>...</td>\n",
       "      <td>-10.895</td>\n",
       "      <td>0</td>\n",
       "      <td>0.0420</td>\n",
       "      <td>0.8670</td>\n",
       "      <td>0.000000</td>\n",
       "      <td>0.0839</td>\n",
       "      <td>0.7430</td>\n",
       "      <td>132.378</td>\n",
       "      <td>4</td>\n",
       "      <td>world-music</td>\n",
       "    </tr>\n",
       "    <tr>\n",
       "      <th>113998</th>\n",
       "      <td>113998</td>\n",
       "      <td>2e6sXL2bYv4bSz6VTdnfLs</td>\n",
       "      <td>Michael W. Smith</td>\n",
       "      <td>Change Your World</td>\n",
       "      <td>Friends</td>\n",
       "      <td>41</td>\n",
       "      <td>283893</td>\n",
       "      <td>False</td>\n",
       "      <td>0.587</td>\n",
       "      <td>0.5060</td>\n",
       "      <td>...</td>\n",
       "      <td>-10.889</td>\n",
       "      <td>1</td>\n",
       "      <td>0.0297</td>\n",
       "      <td>0.3810</td>\n",
       "      <td>0.000000</td>\n",
       "      <td>0.2700</td>\n",
       "      <td>0.4130</td>\n",
       "      <td>135.960</td>\n",
       "      <td>4</td>\n",
       "      <td>world-music</td>\n",
       "    </tr>\n",
       "    <tr>\n",
       "      <th>113999</th>\n",
       "      <td>113999</td>\n",
       "      <td>2hETkH7cOfqmz3LqZDHZf5</td>\n",
       "      <td>Cesária Evora</td>\n",
       "      <td>Miss Perfumado</td>\n",
       "      <td>Barbincor</td>\n",
       "      <td>22</td>\n",
       "      <td>241826</td>\n",
       "      <td>False</td>\n",
       "      <td>0.526</td>\n",
       "      <td>0.4870</td>\n",
       "      <td>...</td>\n",
       "      <td>-10.204</td>\n",
       "      <td>0</td>\n",
       "      <td>0.0725</td>\n",
       "      <td>0.6810</td>\n",
       "      <td>0.000000</td>\n",
       "      <td>0.0893</td>\n",
       "      <td>0.7080</td>\n",
       "      <td>79.198</td>\n",
       "      <td>4</td>\n",
       "      <td>world-music</td>\n",
       "    </tr>\n",
       "  </tbody>\n",
       "</table>\n",
       "<p>114000 rows × 21 columns</p>\n",
       "</div>"
      ],
      "text/plain": [
       "        Unnamed: 0                track_id                 artists  \\\n",
       "0                0  5SuOikwiRyPMVoIQDJUgSV             Gen Hoshino   \n",
       "1                1  4qPNDBW1i3p13qLCt0Ki3A            Ben Woodward   \n",
       "2                2  1iJBSr7s7jYXzM8EGcbK5b  Ingrid Michaelson;ZAYN   \n",
       "3                3  6lfxq3CG4xtTiEg7opyCyx            Kina Grannis   \n",
       "4                4  5vjLSffimiIP26QG5WcN2K        Chord Overstreet   \n",
       "...            ...                     ...                     ...   \n",
       "113995      113995  2C3TZjDRiAzdyViavDJ217           Rainy Lullaby   \n",
       "113996      113996  1hIz5L4IB9hN3WRYPOCGPw           Rainy Lullaby   \n",
       "113997      113997  6x8ZfSoqDjuNa5SVP5QjvX           Cesária Evora   \n",
       "113998      113998  2e6sXL2bYv4bSz6VTdnfLs        Michael W. Smith   \n",
       "113999      113999  2hETkH7cOfqmz3LqZDHZf5           Cesária Evora   \n",
       "\n",
       "                                               album_name  \\\n",
       "0                                                  Comedy   \n",
       "1                                        Ghost (Acoustic)   \n",
       "2                                          To Begin Again   \n",
       "3       Crazy Rich Asians (Original Motion Picture Sou...   \n",
       "4                                                 Hold On   \n",
       "...                                                   ...   \n",
       "113995  #mindfulness - Soft Rain for Mindful Meditatio...   \n",
       "113996  #mindfulness - Soft Rain for Mindful Meditatio...   \n",
       "113997                                            Best Of   \n",
       "113998                                  Change Your World   \n",
       "113999                                     Miss Perfumado   \n",
       "\n",
       "                        track_name  popularity  duration_ms  explicit  \\\n",
       "0                           Comedy          73       230666     False   \n",
       "1                 Ghost - Acoustic          55       149610     False   \n",
       "2                   To Begin Again          57       210826     False   \n",
       "3       Can't Help Falling In Love          71       201933     False   \n",
       "4                          Hold On          82       198853     False   \n",
       "...                            ...         ...          ...       ...   \n",
       "113995         Sleep My Little Boy          21       384999     False   \n",
       "113996            Water Into Light          22       385000     False   \n",
       "113997              Miss Perfumado          22       271466     False   \n",
       "113998                     Friends          41       283893     False   \n",
       "113999                   Barbincor          22       241826     False   \n",
       "\n",
       "        danceability  energy  ...  loudness  mode  speechiness  acousticness  \\\n",
       "0              0.676  0.4610  ...    -6.746     0       0.1430        0.0322   \n",
       "1              0.420  0.1660  ...   -17.235     1       0.0763        0.9240   \n",
       "2              0.438  0.3590  ...    -9.734     1       0.0557        0.2100   \n",
       "3              0.266  0.0596  ...   -18.515     1       0.0363        0.9050   \n",
       "4              0.618  0.4430  ...    -9.681     1       0.0526        0.4690   \n",
       "...              ...     ...  ...       ...   ...          ...           ...   \n",
       "113995         0.172  0.2350  ...   -16.393     1       0.0422        0.6400   \n",
       "113996         0.174  0.1170  ...   -18.318     0       0.0401        0.9940   \n",
       "113997         0.629  0.3290  ...   -10.895     0       0.0420        0.8670   \n",
       "113998         0.587  0.5060  ...   -10.889     1       0.0297        0.3810   \n",
       "113999         0.526  0.4870  ...   -10.204     0       0.0725        0.6810   \n",
       "\n",
       "        instrumentalness  liveness  valence    tempo  time_signature  \\\n",
       "0               0.000001    0.3580   0.7150   87.917               4   \n",
       "1               0.000006    0.1010   0.2670   77.489               4   \n",
       "2               0.000000    0.1170   0.1200   76.332               4   \n",
       "3               0.000071    0.1320   0.1430  181.740               3   \n",
       "4               0.000000    0.0829   0.1670  119.949               4   \n",
       "...                  ...       ...      ...      ...             ...   \n",
       "113995          0.928000    0.0863   0.0339  125.995               5   \n",
       "113996          0.976000    0.1050   0.0350   85.239               4   \n",
       "113997          0.000000    0.0839   0.7430  132.378               4   \n",
       "113998          0.000000    0.2700   0.4130  135.960               4   \n",
       "113999          0.000000    0.0893   0.7080   79.198               4   \n",
       "\n",
       "        track_genre  \n",
       "0          acoustic  \n",
       "1          acoustic  \n",
       "2          acoustic  \n",
       "3          acoustic  \n",
       "4          acoustic  \n",
       "...             ...  \n",
       "113995  world-music  \n",
       "113996  world-music  \n",
       "113997  world-music  \n",
       "113998  world-music  \n",
       "113999  world-music  \n",
       "\n",
       "[114000 rows x 21 columns]"
      ]
     },
     "execution_count": 73,
     "metadata": {},
     "output_type": "execute_result"
    }
   ],
   "source": [
    "import pandas as pd\n",
    "df = pd.read_csv('/Users/summermesler/Downloads/train.csv')\n",
    "df"
   ]
  },
  {
   "cell_type": "code",
   "execution_count": 74,
   "id": "637fad32",
   "metadata": {},
   "outputs": [
    {
     "data": {
      "text/html": [
       "<div>\n",
       "<style scoped>\n",
       "    .dataframe tbody tr th:only-of-type {\n",
       "        vertical-align: middle;\n",
       "    }\n",
       "\n",
       "    .dataframe tbody tr th {\n",
       "        vertical-align: top;\n",
       "    }\n",
       "\n",
       "    .dataframe thead th {\n",
       "        text-align: right;\n",
       "    }\n",
       "</style>\n",
       "<table border=\"1\" class=\"dataframe\">\n",
       "  <thead>\n",
       "    <tr style=\"text-align: right;\">\n",
       "      <th></th>\n",
       "      <th>Unnamed: 0</th>\n",
       "      <th>track_id</th>\n",
       "      <th>artists</th>\n",
       "      <th>album_name</th>\n",
       "      <th>track_name</th>\n",
       "      <th>popularity</th>\n",
       "      <th>duration_ms</th>\n",
       "      <th>explicit</th>\n",
       "      <th>danceability</th>\n",
       "      <th>energy</th>\n",
       "      <th>...</th>\n",
       "      <th>loudness</th>\n",
       "      <th>mode</th>\n",
       "      <th>speechiness</th>\n",
       "      <th>acousticness</th>\n",
       "      <th>instrumentalness</th>\n",
       "      <th>liveness</th>\n",
       "      <th>valence</th>\n",
       "      <th>tempo</th>\n",
       "      <th>time_signature</th>\n",
       "      <th>track_genre</th>\n",
       "    </tr>\n",
       "  </thead>\n",
       "  <tbody>\n",
       "    <tr>\n",
       "      <th>0</th>\n",
       "      <td>0</td>\n",
       "      <td>5SuOikwiRyPMVoIQDJUgSV</td>\n",
       "      <td>Gen Hoshino</td>\n",
       "      <td>Comedy</td>\n",
       "      <td>Comedy</td>\n",
       "      <td>73</td>\n",
       "      <td>230666</td>\n",
       "      <td>False</td>\n",
       "      <td>0.676</td>\n",
       "      <td>0.4610</td>\n",
       "      <td>...</td>\n",
       "      <td>-6.746</td>\n",
       "      <td>0</td>\n",
       "      <td>0.1430</td>\n",
       "      <td>0.0322</td>\n",
       "      <td>0.000001</td>\n",
       "      <td>0.3580</td>\n",
       "      <td>0.7150</td>\n",
       "      <td>87.917</td>\n",
       "      <td>4</td>\n",
       "      <td>acoustic</td>\n",
       "    </tr>\n",
       "    <tr>\n",
       "      <th>1</th>\n",
       "      <td>1</td>\n",
       "      <td>4qPNDBW1i3p13qLCt0Ki3A</td>\n",
       "      <td>Ben Woodward</td>\n",
       "      <td>Ghost (Acoustic)</td>\n",
       "      <td>Ghost - Acoustic</td>\n",
       "      <td>55</td>\n",
       "      <td>149610</td>\n",
       "      <td>False</td>\n",
       "      <td>0.420</td>\n",
       "      <td>0.1660</td>\n",
       "      <td>...</td>\n",
       "      <td>-17.235</td>\n",
       "      <td>1</td>\n",
       "      <td>0.0763</td>\n",
       "      <td>0.9240</td>\n",
       "      <td>0.000006</td>\n",
       "      <td>0.1010</td>\n",
       "      <td>0.2670</td>\n",
       "      <td>77.489</td>\n",
       "      <td>4</td>\n",
       "      <td>acoustic</td>\n",
       "    </tr>\n",
       "    <tr>\n",
       "      <th>2</th>\n",
       "      <td>2</td>\n",
       "      <td>1iJBSr7s7jYXzM8EGcbK5b</td>\n",
       "      <td>Ingrid Michaelson;ZAYN</td>\n",
       "      <td>To Begin Again</td>\n",
       "      <td>To Begin Again</td>\n",
       "      <td>57</td>\n",
       "      <td>210826</td>\n",
       "      <td>False</td>\n",
       "      <td>0.438</td>\n",
       "      <td>0.3590</td>\n",
       "      <td>...</td>\n",
       "      <td>-9.734</td>\n",
       "      <td>1</td>\n",
       "      <td>0.0557</td>\n",
       "      <td>0.2100</td>\n",
       "      <td>0.000000</td>\n",
       "      <td>0.1170</td>\n",
       "      <td>0.1200</td>\n",
       "      <td>76.332</td>\n",
       "      <td>4</td>\n",
       "      <td>acoustic</td>\n",
       "    </tr>\n",
       "    <tr>\n",
       "      <th>3</th>\n",
       "      <td>3</td>\n",
       "      <td>6lfxq3CG4xtTiEg7opyCyx</td>\n",
       "      <td>Kina Grannis</td>\n",
       "      <td>Crazy Rich Asians (Original Motion Picture Sou...</td>\n",
       "      <td>Can't Help Falling In Love</td>\n",
       "      <td>71</td>\n",
       "      <td>201933</td>\n",
       "      <td>False</td>\n",
       "      <td>0.266</td>\n",
       "      <td>0.0596</td>\n",
       "      <td>...</td>\n",
       "      <td>-18.515</td>\n",
       "      <td>1</td>\n",
       "      <td>0.0363</td>\n",
       "      <td>0.9050</td>\n",
       "      <td>0.000071</td>\n",
       "      <td>0.1320</td>\n",
       "      <td>0.1430</td>\n",
       "      <td>181.740</td>\n",
       "      <td>3</td>\n",
       "      <td>acoustic</td>\n",
       "    </tr>\n",
       "    <tr>\n",
       "      <th>4</th>\n",
       "      <td>4</td>\n",
       "      <td>5vjLSffimiIP26QG5WcN2K</td>\n",
       "      <td>Chord Overstreet</td>\n",
       "      <td>Hold On</td>\n",
       "      <td>Hold On</td>\n",
       "      <td>82</td>\n",
       "      <td>198853</td>\n",
       "      <td>False</td>\n",
       "      <td>0.618</td>\n",
       "      <td>0.4430</td>\n",
       "      <td>...</td>\n",
       "      <td>-9.681</td>\n",
       "      <td>1</td>\n",
       "      <td>0.0526</td>\n",
       "      <td>0.4690</td>\n",
       "      <td>0.000000</td>\n",
       "      <td>0.0829</td>\n",
       "      <td>0.1670</td>\n",
       "      <td>119.949</td>\n",
       "      <td>4</td>\n",
       "      <td>acoustic</td>\n",
       "    </tr>\n",
       "    <tr>\n",
       "      <th>...</th>\n",
       "      <td>...</td>\n",
       "      <td>...</td>\n",
       "      <td>...</td>\n",
       "      <td>...</td>\n",
       "      <td>...</td>\n",
       "      <td>...</td>\n",
       "      <td>...</td>\n",
       "      <td>...</td>\n",
       "      <td>...</td>\n",
       "      <td>...</td>\n",
       "      <td>...</td>\n",
       "      <td>...</td>\n",
       "      <td>...</td>\n",
       "      <td>...</td>\n",
       "      <td>...</td>\n",
       "      <td>...</td>\n",
       "      <td>...</td>\n",
       "      <td>...</td>\n",
       "      <td>...</td>\n",
       "      <td>...</td>\n",
       "      <td>...</td>\n",
       "    </tr>\n",
       "    <tr>\n",
       "      <th>113995</th>\n",
       "      <td>113995</td>\n",
       "      <td>2C3TZjDRiAzdyViavDJ217</td>\n",
       "      <td>Rainy Lullaby</td>\n",
       "      <td>#mindfulness - Soft Rain for Mindful Meditatio...</td>\n",
       "      <td>Sleep My Little Boy</td>\n",
       "      <td>21</td>\n",
       "      <td>384999</td>\n",
       "      <td>False</td>\n",
       "      <td>0.172</td>\n",
       "      <td>0.2350</td>\n",
       "      <td>...</td>\n",
       "      <td>-16.393</td>\n",
       "      <td>1</td>\n",
       "      <td>0.0422</td>\n",
       "      <td>0.6400</td>\n",
       "      <td>0.928000</td>\n",
       "      <td>0.0863</td>\n",
       "      <td>0.0339</td>\n",
       "      <td>125.995</td>\n",
       "      <td>5</td>\n",
       "      <td>world-music</td>\n",
       "    </tr>\n",
       "    <tr>\n",
       "      <th>113996</th>\n",
       "      <td>113996</td>\n",
       "      <td>1hIz5L4IB9hN3WRYPOCGPw</td>\n",
       "      <td>Rainy Lullaby</td>\n",
       "      <td>#mindfulness - Soft Rain for Mindful Meditatio...</td>\n",
       "      <td>Water Into Light</td>\n",
       "      <td>22</td>\n",
       "      <td>385000</td>\n",
       "      <td>False</td>\n",
       "      <td>0.174</td>\n",
       "      <td>0.1170</td>\n",
       "      <td>...</td>\n",
       "      <td>-18.318</td>\n",
       "      <td>0</td>\n",
       "      <td>0.0401</td>\n",
       "      <td>0.9940</td>\n",
       "      <td>0.976000</td>\n",
       "      <td>0.1050</td>\n",
       "      <td>0.0350</td>\n",
       "      <td>85.239</td>\n",
       "      <td>4</td>\n",
       "      <td>world-music</td>\n",
       "    </tr>\n",
       "    <tr>\n",
       "      <th>113997</th>\n",
       "      <td>113997</td>\n",
       "      <td>6x8ZfSoqDjuNa5SVP5QjvX</td>\n",
       "      <td>Cesária Evora</td>\n",
       "      <td>Best Of</td>\n",
       "      <td>Miss Perfumado</td>\n",
       "      <td>22</td>\n",
       "      <td>271466</td>\n",
       "      <td>False</td>\n",
       "      <td>0.629</td>\n",
       "      <td>0.3290</td>\n",
       "      <td>...</td>\n",
       "      <td>-10.895</td>\n",
       "      <td>0</td>\n",
       "      <td>0.0420</td>\n",
       "      <td>0.8670</td>\n",
       "      <td>0.000000</td>\n",
       "      <td>0.0839</td>\n",
       "      <td>0.7430</td>\n",
       "      <td>132.378</td>\n",
       "      <td>4</td>\n",
       "      <td>world-music</td>\n",
       "    </tr>\n",
       "    <tr>\n",
       "      <th>113998</th>\n",
       "      <td>113998</td>\n",
       "      <td>2e6sXL2bYv4bSz6VTdnfLs</td>\n",
       "      <td>Michael W. Smith</td>\n",
       "      <td>Change Your World</td>\n",
       "      <td>Friends</td>\n",
       "      <td>41</td>\n",
       "      <td>283893</td>\n",
       "      <td>False</td>\n",
       "      <td>0.587</td>\n",
       "      <td>0.5060</td>\n",
       "      <td>...</td>\n",
       "      <td>-10.889</td>\n",
       "      <td>1</td>\n",
       "      <td>0.0297</td>\n",
       "      <td>0.3810</td>\n",
       "      <td>0.000000</td>\n",
       "      <td>0.2700</td>\n",
       "      <td>0.4130</td>\n",
       "      <td>135.960</td>\n",
       "      <td>4</td>\n",
       "      <td>world-music</td>\n",
       "    </tr>\n",
       "    <tr>\n",
       "      <th>113999</th>\n",
       "      <td>113999</td>\n",
       "      <td>2hETkH7cOfqmz3LqZDHZf5</td>\n",
       "      <td>Cesária Evora</td>\n",
       "      <td>Miss Perfumado</td>\n",
       "      <td>Barbincor</td>\n",
       "      <td>22</td>\n",
       "      <td>241826</td>\n",
       "      <td>False</td>\n",
       "      <td>0.526</td>\n",
       "      <td>0.4870</td>\n",
       "      <td>...</td>\n",
       "      <td>-10.204</td>\n",
       "      <td>0</td>\n",
       "      <td>0.0725</td>\n",
       "      <td>0.6810</td>\n",
       "      <td>0.000000</td>\n",
       "      <td>0.0893</td>\n",
       "      <td>0.7080</td>\n",
       "      <td>79.198</td>\n",
       "      <td>4</td>\n",
       "      <td>world-music</td>\n",
       "    </tr>\n",
       "  </tbody>\n",
       "</table>\n",
       "<p>113999 rows × 21 columns</p>\n",
       "</div>"
      ],
      "text/plain": [
       "        Unnamed: 0                track_id                 artists  \\\n",
       "0                0  5SuOikwiRyPMVoIQDJUgSV             Gen Hoshino   \n",
       "1                1  4qPNDBW1i3p13qLCt0Ki3A            Ben Woodward   \n",
       "2                2  1iJBSr7s7jYXzM8EGcbK5b  Ingrid Michaelson;ZAYN   \n",
       "3                3  6lfxq3CG4xtTiEg7opyCyx            Kina Grannis   \n",
       "4                4  5vjLSffimiIP26QG5WcN2K        Chord Overstreet   \n",
       "...            ...                     ...                     ...   \n",
       "113995      113995  2C3TZjDRiAzdyViavDJ217           Rainy Lullaby   \n",
       "113996      113996  1hIz5L4IB9hN3WRYPOCGPw           Rainy Lullaby   \n",
       "113997      113997  6x8ZfSoqDjuNa5SVP5QjvX           Cesária Evora   \n",
       "113998      113998  2e6sXL2bYv4bSz6VTdnfLs        Michael W. Smith   \n",
       "113999      113999  2hETkH7cOfqmz3LqZDHZf5           Cesária Evora   \n",
       "\n",
       "                                               album_name  \\\n",
       "0                                                  Comedy   \n",
       "1                                        Ghost (Acoustic)   \n",
       "2                                          To Begin Again   \n",
       "3       Crazy Rich Asians (Original Motion Picture Sou...   \n",
       "4                                                 Hold On   \n",
       "...                                                   ...   \n",
       "113995  #mindfulness - Soft Rain for Mindful Meditatio...   \n",
       "113996  #mindfulness - Soft Rain for Mindful Meditatio...   \n",
       "113997                                            Best Of   \n",
       "113998                                  Change Your World   \n",
       "113999                                     Miss Perfumado   \n",
       "\n",
       "                        track_name  popularity  duration_ms  explicit  \\\n",
       "0                           Comedy          73       230666     False   \n",
       "1                 Ghost - Acoustic          55       149610     False   \n",
       "2                   To Begin Again          57       210826     False   \n",
       "3       Can't Help Falling In Love          71       201933     False   \n",
       "4                          Hold On          82       198853     False   \n",
       "...                            ...         ...          ...       ...   \n",
       "113995         Sleep My Little Boy          21       384999     False   \n",
       "113996            Water Into Light          22       385000     False   \n",
       "113997              Miss Perfumado          22       271466     False   \n",
       "113998                     Friends          41       283893     False   \n",
       "113999                   Barbincor          22       241826     False   \n",
       "\n",
       "        danceability  energy  ...  loudness  mode  speechiness  acousticness  \\\n",
       "0              0.676  0.4610  ...    -6.746     0       0.1430        0.0322   \n",
       "1              0.420  0.1660  ...   -17.235     1       0.0763        0.9240   \n",
       "2              0.438  0.3590  ...    -9.734     1       0.0557        0.2100   \n",
       "3              0.266  0.0596  ...   -18.515     1       0.0363        0.9050   \n",
       "4              0.618  0.4430  ...    -9.681     1       0.0526        0.4690   \n",
       "...              ...     ...  ...       ...   ...          ...           ...   \n",
       "113995         0.172  0.2350  ...   -16.393     1       0.0422        0.6400   \n",
       "113996         0.174  0.1170  ...   -18.318     0       0.0401        0.9940   \n",
       "113997         0.629  0.3290  ...   -10.895     0       0.0420        0.8670   \n",
       "113998         0.587  0.5060  ...   -10.889     1       0.0297        0.3810   \n",
       "113999         0.526  0.4870  ...   -10.204     0       0.0725        0.6810   \n",
       "\n",
       "        instrumentalness  liveness  valence    tempo  time_signature  \\\n",
       "0               0.000001    0.3580   0.7150   87.917               4   \n",
       "1               0.000006    0.1010   0.2670   77.489               4   \n",
       "2               0.000000    0.1170   0.1200   76.332               4   \n",
       "3               0.000071    0.1320   0.1430  181.740               3   \n",
       "4               0.000000    0.0829   0.1670  119.949               4   \n",
       "...                  ...       ...      ...      ...             ...   \n",
       "113995          0.928000    0.0863   0.0339  125.995               5   \n",
       "113996          0.976000    0.1050   0.0350   85.239               4   \n",
       "113997          0.000000    0.0839   0.7430  132.378               4   \n",
       "113998          0.000000    0.2700   0.4130  135.960               4   \n",
       "113999          0.000000    0.0893   0.7080   79.198               4   \n",
       "\n",
       "        track_genre  \n",
       "0          acoustic  \n",
       "1          acoustic  \n",
       "2          acoustic  \n",
       "3          acoustic  \n",
       "4          acoustic  \n",
       "...             ...  \n",
       "113995  world-music  \n",
       "113996  world-music  \n",
       "113997  world-music  \n",
       "113998  world-music  \n",
       "113999  world-music  \n",
       "\n",
       "[113999 rows x 21 columns]"
      ]
     },
     "execution_count": 74,
     "metadata": {},
     "output_type": "execute_result"
    }
   ],
   "source": [
    "dff = df.dropna()\n",
    "dff"
   ]
  },
  {
   "cell_type": "code",
   "execution_count": 75,
   "id": "d7ce0f59",
   "metadata": {
    "scrolled": false
   },
   "outputs": [
    {
     "data": {
      "text/html": [
       "<div>\n",
       "<style scoped>\n",
       "    .dataframe tbody tr th:only-of-type {\n",
       "        vertical-align: middle;\n",
       "    }\n",
       "\n",
       "    .dataframe tbody tr th {\n",
       "        vertical-align: top;\n",
       "    }\n",
       "\n",
       "    .dataframe thead th {\n",
       "        text-align: right;\n",
       "    }\n",
       "</style>\n",
       "<table border=\"1\" class=\"dataframe\">\n",
       "  <thead>\n",
       "    <tr style=\"text-align: right;\">\n",
       "      <th></th>\n",
       "      <th>Unnamed: 0</th>\n",
       "      <th>track_id</th>\n",
       "      <th>artists</th>\n",
       "      <th>album_name</th>\n",
       "      <th>track_name</th>\n",
       "      <th>popularity</th>\n",
       "      <th>duration_ms</th>\n",
       "      <th>explicit</th>\n",
       "      <th>danceability</th>\n",
       "      <th>energy</th>\n",
       "      <th>...</th>\n",
       "      <th>loudness</th>\n",
       "      <th>mode</th>\n",
       "      <th>speechiness</th>\n",
       "      <th>acousticness</th>\n",
       "      <th>instrumentalness</th>\n",
       "      <th>liveness</th>\n",
       "      <th>valence</th>\n",
       "      <th>tempo</th>\n",
       "      <th>time_signature</th>\n",
       "      <th>track_genre</th>\n",
       "    </tr>\n",
       "  </thead>\n",
       "  <tbody>\n",
       "    <tr>\n",
       "      <th>0</th>\n",
       "      <td>0</td>\n",
       "      <td>5SuOikwiRyPMVoIQDJUgSV</td>\n",
       "      <td>Gen Hoshino</td>\n",
       "      <td>Comedy</td>\n",
       "      <td>Comedy</td>\n",
       "      <td>73</td>\n",
       "      <td>230666</td>\n",
       "      <td>False</td>\n",
       "      <td>0.676</td>\n",
       "      <td>0.4610</td>\n",
       "      <td>...</td>\n",
       "      <td>-6.746</td>\n",
       "      <td>0</td>\n",
       "      <td>0.1430</td>\n",
       "      <td>0.0322</td>\n",
       "      <td>0.000001</td>\n",
       "      <td>0.3580</td>\n",
       "      <td>0.7150</td>\n",
       "      <td>87.917</td>\n",
       "      <td>4</td>\n",
       "      <td>acoustic</td>\n",
       "    </tr>\n",
       "    <tr>\n",
       "      <th>1</th>\n",
       "      <td>1</td>\n",
       "      <td>4qPNDBW1i3p13qLCt0Ki3A</td>\n",
       "      <td>Ben Woodward</td>\n",
       "      <td>Ghost (Acoustic)</td>\n",
       "      <td>Ghost - Acoustic</td>\n",
       "      <td>55</td>\n",
       "      <td>149610</td>\n",
       "      <td>False</td>\n",
       "      <td>0.420</td>\n",
       "      <td>0.1660</td>\n",
       "      <td>...</td>\n",
       "      <td>-17.235</td>\n",
       "      <td>1</td>\n",
       "      <td>0.0763</td>\n",
       "      <td>0.9240</td>\n",
       "      <td>0.000006</td>\n",
       "      <td>0.1010</td>\n",
       "      <td>0.2670</td>\n",
       "      <td>77.489</td>\n",
       "      <td>4</td>\n",
       "      <td>acoustic</td>\n",
       "    </tr>\n",
       "    <tr>\n",
       "      <th>2</th>\n",
       "      <td>2</td>\n",
       "      <td>1iJBSr7s7jYXzM8EGcbK5b</td>\n",
       "      <td>Ingrid Michaelson;ZAYN</td>\n",
       "      <td>To Begin Again</td>\n",
       "      <td>To Begin Again</td>\n",
       "      <td>57</td>\n",
       "      <td>210826</td>\n",
       "      <td>False</td>\n",
       "      <td>0.438</td>\n",
       "      <td>0.3590</td>\n",
       "      <td>...</td>\n",
       "      <td>-9.734</td>\n",
       "      <td>1</td>\n",
       "      <td>0.0557</td>\n",
       "      <td>0.2100</td>\n",
       "      <td>0.000000</td>\n",
       "      <td>0.1170</td>\n",
       "      <td>0.1200</td>\n",
       "      <td>76.332</td>\n",
       "      <td>4</td>\n",
       "      <td>acoustic</td>\n",
       "    </tr>\n",
       "    <tr>\n",
       "      <th>3</th>\n",
       "      <td>3</td>\n",
       "      <td>6lfxq3CG4xtTiEg7opyCyx</td>\n",
       "      <td>Kina Grannis</td>\n",
       "      <td>Crazy Rich Asians (Original Motion Picture Sou...</td>\n",
       "      <td>Can't Help Falling In Love</td>\n",
       "      <td>71</td>\n",
       "      <td>201933</td>\n",
       "      <td>False</td>\n",
       "      <td>0.266</td>\n",
       "      <td>0.0596</td>\n",
       "      <td>...</td>\n",
       "      <td>-18.515</td>\n",
       "      <td>1</td>\n",
       "      <td>0.0363</td>\n",
       "      <td>0.9050</td>\n",
       "      <td>0.000071</td>\n",
       "      <td>0.1320</td>\n",
       "      <td>0.1430</td>\n",
       "      <td>181.740</td>\n",
       "      <td>3</td>\n",
       "      <td>acoustic</td>\n",
       "    </tr>\n",
       "    <tr>\n",
       "      <th>4</th>\n",
       "      <td>4</td>\n",
       "      <td>5vjLSffimiIP26QG5WcN2K</td>\n",
       "      <td>Chord Overstreet</td>\n",
       "      <td>Hold On</td>\n",
       "      <td>Hold On</td>\n",
       "      <td>82</td>\n",
       "      <td>198853</td>\n",
       "      <td>False</td>\n",
       "      <td>0.618</td>\n",
       "      <td>0.4430</td>\n",
       "      <td>...</td>\n",
       "      <td>-9.681</td>\n",
       "      <td>1</td>\n",
       "      <td>0.0526</td>\n",
       "      <td>0.4690</td>\n",
       "      <td>0.000000</td>\n",
       "      <td>0.0829</td>\n",
       "      <td>0.1670</td>\n",
       "      <td>119.949</td>\n",
       "      <td>4</td>\n",
       "      <td>acoustic</td>\n",
       "    </tr>\n",
       "    <tr>\n",
       "      <th>...</th>\n",
       "      <td>...</td>\n",
       "      <td>...</td>\n",
       "      <td>...</td>\n",
       "      <td>...</td>\n",
       "      <td>...</td>\n",
       "      <td>...</td>\n",
       "      <td>...</td>\n",
       "      <td>...</td>\n",
       "      <td>...</td>\n",
       "      <td>...</td>\n",
       "      <td>...</td>\n",
       "      <td>...</td>\n",
       "      <td>...</td>\n",
       "      <td>...</td>\n",
       "      <td>...</td>\n",
       "      <td>...</td>\n",
       "      <td>...</td>\n",
       "      <td>...</td>\n",
       "      <td>...</td>\n",
       "      <td>...</td>\n",
       "      <td>...</td>\n",
       "    </tr>\n",
       "    <tr>\n",
       "      <th>113995</th>\n",
       "      <td>113995</td>\n",
       "      <td>2C3TZjDRiAzdyViavDJ217</td>\n",
       "      <td>Rainy Lullaby</td>\n",
       "      <td>#mindfulness - Soft Rain for Mindful Meditatio...</td>\n",
       "      <td>Sleep My Little Boy</td>\n",
       "      <td>21</td>\n",
       "      <td>384999</td>\n",
       "      <td>False</td>\n",
       "      <td>0.172</td>\n",
       "      <td>0.2350</td>\n",
       "      <td>...</td>\n",
       "      <td>-16.393</td>\n",
       "      <td>1</td>\n",
       "      <td>0.0422</td>\n",
       "      <td>0.6400</td>\n",
       "      <td>0.928000</td>\n",
       "      <td>0.0863</td>\n",
       "      <td>0.0339</td>\n",
       "      <td>125.995</td>\n",
       "      <td>5</td>\n",
       "      <td>world-music</td>\n",
       "    </tr>\n",
       "    <tr>\n",
       "      <th>113996</th>\n",
       "      <td>113996</td>\n",
       "      <td>1hIz5L4IB9hN3WRYPOCGPw</td>\n",
       "      <td>Rainy Lullaby</td>\n",
       "      <td>#mindfulness - Soft Rain for Mindful Meditatio...</td>\n",
       "      <td>Water Into Light</td>\n",
       "      <td>22</td>\n",
       "      <td>385000</td>\n",
       "      <td>False</td>\n",
       "      <td>0.174</td>\n",
       "      <td>0.1170</td>\n",
       "      <td>...</td>\n",
       "      <td>-18.318</td>\n",
       "      <td>0</td>\n",
       "      <td>0.0401</td>\n",
       "      <td>0.9940</td>\n",
       "      <td>0.976000</td>\n",
       "      <td>0.1050</td>\n",
       "      <td>0.0350</td>\n",
       "      <td>85.239</td>\n",
       "      <td>4</td>\n",
       "      <td>world-music</td>\n",
       "    </tr>\n",
       "    <tr>\n",
       "      <th>113997</th>\n",
       "      <td>113997</td>\n",
       "      <td>6x8ZfSoqDjuNa5SVP5QjvX</td>\n",
       "      <td>Cesária Evora</td>\n",
       "      <td>Best Of</td>\n",
       "      <td>Miss Perfumado</td>\n",
       "      <td>22</td>\n",
       "      <td>271466</td>\n",
       "      <td>False</td>\n",
       "      <td>0.629</td>\n",
       "      <td>0.3290</td>\n",
       "      <td>...</td>\n",
       "      <td>-10.895</td>\n",
       "      <td>0</td>\n",
       "      <td>0.0420</td>\n",
       "      <td>0.8670</td>\n",
       "      <td>0.000000</td>\n",
       "      <td>0.0839</td>\n",
       "      <td>0.7430</td>\n",
       "      <td>132.378</td>\n",
       "      <td>4</td>\n",
       "      <td>world-music</td>\n",
       "    </tr>\n",
       "    <tr>\n",
       "      <th>113998</th>\n",
       "      <td>113998</td>\n",
       "      <td>2e6sXL2bYv4bSz6VTdnfLs</td>\n",
       "      <td>Michael W. Smith</td>\n",
       "      <td>Change Your World</td>\n",
       "      <td>Friends</td>\n",
       "      <td>41</td>\n",
       "      <td>283893</td>\n",
       "      <td>False</td>\n",
       "      <td>0.587</td>\n",
       "      <td>0.5060</td>\n",
       "      <td>...</td>\n",
       "      <td>-10.889</td>\n",
       "      <td>1</td>\n",
       "      <td>0.0297</td>\n",
       "      <td>0.3810</td>\n",
       "      <td>0.000000</td>\n",
       "      <td>0.2700</td>\n",
       "      <td>0.4130</td>\n",
       "      <td>135.960</td>\n",
       "      <td>4</td>\n",
       "      <td>world-music</td>\n",
       "    </tr>\n",
       "    <tr>\n",
       "      <th>113999</th>\n",
       "      <td>113999</td>\n",
       "      <td>2hETkH7cOfqmz3LqZDHZf5</td>\n",
       "      <td>Cesária Evora</td>\n",
       "      <td>Miss Perfumado</td>\n",
       "      <td>Barbincor</td>\n",
       "      <td>22</td>\n",
       "      <td>241826</td>\n",
       "      <td>False</td>\n",
       "      <td>0.526</td>\n",
       "      <td>0.4870</td>\n",
       "      <td>...</td>\n",
       "      <td>-10.204</td>\n",
       "      <td>0</td>\n",
       "      <td>0.0725</td>\n",
       "      <td>0.6810</td>\n",
       "      <td>0.000000</td>\n",
       "      <td>0.0893</td>\n",
       "      <td>0.7080</td>\n",
       "      <td>79.198</td>\n",
       "      <td>4</td>\n",
       "      <td>world-music</td>\n",
       "    </tr>\n",
       "  </tbody>\n",
       "</table>\n",
       "<p>89741 rows × 21 columns</p>\n",
       "</div>"
      ],
      "text/plain": [
       "        Unnamed: 0                track_id                 artists  \\\n",
       "0                0  5SuOikwiRyPMVoIQDJUgSV             Gen Hoshino   \n",
       "1                1  4qPNDBW1i3p13qLCt0Ki3A            Ben Woodward   \n",
       "2                2  1iJBSr7s7jYXzM8EGcbK5b  Ingrid Michaelson;ZAYN   \n",
       "3                3  6lfxq3CG4xtTiEg7opyCyx            Kina Grannis   \n",
       "4                4  5vjLSffimiIP26QG5WcN2K        Chord Overstreet   \n",
       "...            ...                     ...                     ...   \n",
       "113995      113995  2C3TZjDRiAzdyViavDJ217           Rainy Lullaby   \n",
       "113996      113996  1hIz5L4IB9hN3WRYPOCGPw           Rainy Lullaby   \n",
       "113997      113997  6x8ZfSoqDjuNa5SVP5QjvX           Cesária Evora   \n",
       "113998      113998  2e6sXL2bYv4bSz6VTdnfLs        Michael W. Smith   \n",
       "113999      113999  2hETkH7cOfqmz3LqZDHZf5           Cesária Evora   \n",
       "\n",
       "                                               album_name  \\\n",
       "0                                                  Comedy   \n",
       "1                                        Ghost (Acoustic)   \n",
       "2                                          To Begin Again   \n",
       "3       Crazy Rich Asians (Original Motion Picture Sou...   \n",
       "4                                                 Hold On   \n",
       "...                                                   ...   \n",
       "113995  #mindfulness - Soft Rain for Mindful Meditatio...   \n",
       "113996  #mindfulness - Soft Rain for Mindful Meditatio...   \n",
       "113997                                            Best Of   \n",
       "113998                                  Change Your World   \n",
       "113999                                     Miss Perfumado   \n",
       "\n",
       "                        track_name  popularity  duration_ms  explicit  \\\n",
       "0                           Comedy          73       230666     False   \n",
       "1                 Ghost - Acoustic          55       149610     False   \n",
       "2                   To Begin Again          57       210826     False   \n",
       "3       Can't Help Falling In Love          71       201933     False   \n",
       "4                          Hold On          82       198853     False   \n",
       "...                            ...         ...          ...       ...   \n",
       "113995         Sleep My Little Boy          21       384999     False   \n",
       "113996            Water Into Light          22       385000     False   \n",
       "113997              Miss Perfumado          22       271466     False   \n",
       "113998                     Friends          41       283893     False   \n",
       "113999                   Barbincor          22       241826     False   \n",
       "\n",
       "        danceability  energy  ...  loudness  mode  speechiness  acousticness  \\\n",
       "0              0.676  0.4610  ...    -6.746     0       0.1430        0.0322   \n",
       "1              0.420  0.1660  ...   -17.235     1       0.0763        0.9240   \n",
       "2              0.438  0.3590  ...    -9.734     1       0.0557        0.2100   \n",
       "3              0.266  0.0596  ...   -18.515     1       0.0363        0.9050   \n",
       "4              0.618  0.4430  ...    -9.681     1       0.0526        0.4690   \n",
       "...              ...     ...  ...       ...   ...          ...           ...   \n",
       "113995         0.172  0.2350  ...   -16.393     1       0.0422        0.6400   \n",
       "113996         0.174  0.1170  ...   -18.318     0       0.0401        0.9940   \n",
       "113997         0.629  0.3290  ...   -10.895     0       0.0420        0.8670   \n",
       "113998         0.587  0.5060  ...   -10.889     1       0.0297        0.3810   \n",
       "113999         0.526  0.4870  ...   -10.204     0       0.0725        0.6810   \n",
       "\n",
       "        instrumentalness  liveness  valence    tempo  time_signature  \\\n",
       "0               0.000001    0.3580   0.7150   87.917               4   \n",
       "1               0.000006    0.1010   0.2670   77.489               4   \n",
       "2               0.000000    0.1170   0.1200   76.332               4   \n",
       "3               0.000071    0.1320   0.1430  181.740               3   \n",
       "4               0.000000    0.0829   0.1670  119.949               4   \n",
       "...                  ...       ...      ...      ...             ...   \n",
       "113995          0.928000    0.0863   0.0339  125.995               5   \n",
       "113996          0.976000    0.1050   0.0350   85.239               4   \n",
       "113997          0.000000    0.0839   0.7430  132.378               4   \n",
       "113998          0.000000    0.2700   0.4130  135.960               4   \n",
       "113999          0.000000    0.0893   0.7080   79.198               4   \n",
       "\n",
       "        track_genre  \n",
       "0          acoustic  \n",
       "1          acoustic  \n",
       "2          acoustic  \n",
       "3          acoustic  \n",
       "4          acoustic  \n",
       "...             ...  \n",
       "113995  world-music  \n",
       "113996  world-music  \n",
       "113997  world-music  \n",
       "113998  world-music  \n",
       "113999  world-music  \n",
       "\n",
       "[89741 rows x 21 columns]"
      ]
     },
     "execution_count": 75,
     "metadata": {},
     "output_type": "execute_result"
    }
   ],
   "source": [
    "df = df.drop_duplicates('track_id')\n",
    "df"
   ]
  },
  {
   "cell_type": "markdown",
   "id": "3f310af7",
   "metadata": {},
   "source": [
    "With this cleaning method, we got rid of all the duplicate songs in this dataset!"
   ]
  },
  {
   "cell_type": "code",
   "execution_count": 76,
   "id": "e5ebb2bd",
   "metadata": {},
   "outputs": [
    {
     "data": {
      "text/html": [
       "<div>\n",
       "<style scoped>\n",
       "    .dataframe tbody tr th:only-of-type {\n",
       "        vertical-align: middle;\n",
       "    }\n",
       "\n",
       "    .dataframe tbody tr th {\n",
       "        vertical-align: top;\n",
       "    }\n",
       "\n",
       "    .dataframe thead th {\n",
       "        text-align: right;\n",
       "    }\n",
       "</style>\n",
       "<table border=\"1\" class=\"dataframe\">\n",
       "  <thead>\n",
       "    <tr style=\"text-align: right;\">\n",
       "      <th></th>\n",
       "      <th>Unnamed: 0</th>\n",
       "      <th>popularity</th>\n",
       "      <th>duration_ms</th>\n",
       "      <th>danceability</th>\n",
       "      <th>energy</th>\n",
       "      <th>key</th>\n",
       "      <th>loudness</th>\n",
       "      <th>mode</th>\n",
       "      <th>speechiness</th>\n",
       "      <th>acousticness</th>\n",
       "      <th>instrumentalness</th>\n",
       "      <th>liveness</th>\n",
       "      <th>valence</th>\n",
       "      <th>tempo</th>\n",
       "      <th>time_signature</th>\n",
       "    </tr>\n",
       "  </thead>\n",
       "  <tbody>\n",
       "    <tr>\n",
       "      <th>count</th>\n",
       "      <td>89741.000000</td>\n",
       "      <td>89741.000000</td>\n",
       "      <td>8.974100e+04</td>\n",
       "      <td>89741.000000</td>\n",
       "      <td>89741.000000</td>\n",
       "      <td>89741.000000</td>\n",
       "      <td>89741.000000</td>\n",
       "      <td>89741.000000</td>\n",
       "      <td>89741.000000</td>\n",
       "      <td>89741.000000</td>\n",
       "      <td>89741.000000</td>\n",
       "      <td>89741.000000</td>\n",
       "      <td>89741.000000</td>\n",
       "      <td>89741.000000</td>\n",
       "      <td>89741.000000</td>\n",
       "    </tr>\n",
       "    <tr>\n",
       "      <th>mean</th>\n",
       "      <td>53479.144148</td>\n",
       "      <td>33.198438</td>\n",
       "      <td>2.291418e+05</td>\n",
       "      <td>0.562166</td>\n",
       "      <td>0.634458</td>\n",
       "      <td>5.283549</td>\n",
       "      <td>-8.499004</td>\n",
       "      <td>0.636966</td>\n",
       "      <td>0.087442</td>\n",
       "      <td>0.328289</td>\n",
       "      <td>0.173413</td>\n",
       "      <td>0.216970</td>\n",
       "      <td>0.469477</td>\n",
       "      <td>122.058316</td>\n",
       "      <td>3.897427</td>\n",
       "    </tr>\n",
       "    <tr>\n",
       "      <th>std</th>\n",
       "      <td>33409.981502</td>\n",
       "      <td>20.580824</td>\n",
       "      <td>1.129477e+05</td>\n",
       "      <td>0.176691</td>\n",
       "      <td>0.256605</td>\n",
       "      <td>3.559897</td>\n",
       "      <td>5.221490</td>\n",
       "      <td>0.480877</td>\n",
       "      <td>0.113277</td>\n",
       "      <td>0.338321</td>\n",
       "      <td>0.323848</td>\n",
       "      <td>0.194884</td>\n",
       "      <td>0.262864</td>\n",
       "      <td>30.117532</td>\n",
       "      <td>0.453435</td>\n",
       "    </tr>\n",
       "    <tr>\n",
       "      <th>min</th>\n",
       "      <td>0.000000</td>\n",
       "      <td>0.000000</td>\n",
       "      <td>0.000000e+00</td>\n",
       "      <td>0.000000</td>\n",
       "      <td>0.000000</td>\n",
       "      <td>0.000000</td>\n",
       "      <td>-49.531000</td>\n",
       "      <td>0.000000</td>\n",
       "      <td>0.000000</td>\n",
       "      <td>0.000000</td>\n",
       "      <td>0.000000</td>\n",
       "      <td>0.000000</td>\n",
       "      <td>0.000000</td>\n",
       "      <td>0.000000</td>\n",
       "      <td>0.000000</td>\n",
       "    </tr>\n",
       "    <tr>\n",
       "      <th>25%</th>\n",
       "      <td>23767.000000</td>\n",
       "      <td>19.000000</td>\n",
       "      <td>1.730400e+05</td>\n",
       "      <td>0.450000</td>\n",
       "      <td>0.457000</td>\n",
       "      <td>2.000000</td>\n",
       "      <td>-10.322000</td>\n",
       "      <td>0.000000</td>\n",
       "      <td>0.036000</td>\n",
       "      <td>0.017100</td>\n",
       "      <td>0.000000</td>\n",
       "      <td>0.098200</td>\n",
       "      <td>0.249000</td>\n",
       "      <td>99.264000</td>\n",
       "      <td>4.000000</td>\n",
       "    </tr>\n",
       "    <tr>\n",
       "      <th>50%</th>\n",
       "      <td>50681.000000</td>\n",
       "      <td>33.000000</td>\n",
       "      <td>2.132930e+05</td>\n",
       "      <td>0.576000</td>\n",
       "      <td>0.676000</td>\n",
       "      <td>5.000000</td>\n",
       "      <td>-7.185000</td>\n",
       "      <td>1.000000</td>\n",
       "      <td>0.048900</td>\n",
       "      <td>0.188000</td>\n",
       "      <td>0.000058</td>\n",
       "      <td>0.132000</td>\n",
       "      <td>0.457000</td>\n",
       "      <td>122.013000</td>\n",
       "      <td>4.000000</td>\n",
       "    </tr>\n",
       "    <tr>\n",
       "      <th>75%</th>\n",
       "      <td>80618.000000</td>\n",
       "      <td>49.000000</td>\n",
       "      <td>2.642930e+05</td>\n",
       "      <td>0.692000</td>\n",
       "      <td>0.853000</td>\n",
       "      <td>8.000000</td>\n",
       "      <td>-5.108000</td>\n",
       "      <td>1.000000</td>\n",
       "      <td>0.085900</td>\n",
       "      <td>0.625000</td>\n",
       "      <td>0.097600</td>\n",
       "      <td>0.279000</td>\n",
       "      <td>0.682000</td>\n",
       "      <td>140.077000</td>\n",
       "      <td>4.000000</td>\n",
       "    </tr>\n",
       "    <tr>\n",
       "      <th>max</th>\n",
       "      <td>113999.000000</td>\n",
       "      <td>100.000000</td>\n",
       "      <td>5.237295e+06</td>\n",
       "      <td>0.985000</td>\n",
       "      <td>1.000000</td>\n",
       "      <td>11.000000</td>\n",
       "      <td>4.532000</td>\n",
       "      <td>1.000000</td>\n",
       "      <td>0.965000</td>\n",
       "      <td>0.996000</td>\n",
       "      <td>1.000000</td>\n",
       "      <td>1.000000</td>\n",
       "      <td>0.995000</td>\n",
       "      <td>243.372000</td>\n",
       "      <td>5.000000</td>\n",
       "    </tr>\n",
       "  </tbody>\n",
       "</table>\n",
       "</div>"
      ],
      "text/plain": [
       "          Unnamed: 0    popularity   duration_ms  danceability        energy  \\\n",
       "count   89741.000000  89741.000000  8.974100e+04  89741.000000  89741.000000   \n",
       "mean    53479.144148     33.198438  2.291418e+05      0.562166      0.634458   \n",
       "std     33409.981502     20.580824  1.129477e+05      0.176691      0.256605   \n",
       "min         0.000000      0.000000  0.000000e+00      0.000000      0.000000   \n",
       "25%     23767.000000     19.000000  1.730400e+05      0.450000      0.457000   \n",
       "50%     50681.000000     33.000000  2.132930e+05      0.576000      0.676000   \n",
       "75%     80618.000000     49.000000  2.642930e+05      0.692000      0.853000   \n",
       "max    113999.000000    100.000000  5.237295e+06      0.985000      1.000000   \n",
       "\n",
       "                key      loudness          mode   speechiness  acousticness  \\\n",
       "count  89741.000000  89741.000000  89741.000000  89741.000000  89741.000000   \n",
       "mean       5.283549     -8.499004      0.636966      0.087442      0.328289   \n",
       "std        3.559897      5.221490      0.480877      0.113277      0.338321   \n",
       "min        0.000000    -49.531000      0.000000      0.000000      0.000000   \n",
       "25%        2.000000    -10.322000      0.000000      0.036000      0.017100   \n",
       "50%        5.000000     -7.185000      1.000000      0.048900      0.188000   \n",
       "75%        8.000000     -5.108000      1.000000      0.085900      0.625000   \n",
       "max       11.000000      4.532000      1.000000      0.965000      0.996000   \n",
       "\n",
       "       instrumentalness      liveness       valence         tempo  \\\n",
       "count      89741.000000  89741.000000  89741.000000  89741.000000   \n",
       "mean           0.173413      0.216970      0.469477    122.058316   \n",
       "std            0.323848      0.194884      0.262864     30.117532   \n",
       "min            0.000000      0.000000      0.000000      0.000000   \n",
       "25%            0.000000      0.098200      0.249000     99.264000   \n",
       "50%            0.000058      0.132000      0.457000    122.013000   \n",
       "75%            0.097600      0.279000      0.682000    140.077000   \n",
       "max            1.000000      1.000000      0.995000    243.372000   \n",
       "\n",
       "       time_signature  \n",
       "count    89741.000000  \n",
       "mean         3.897427  \n",
       "std          0.453435  \n",
       "min          0.000000  \n",
       "25%          4.000000  \n",
       "50%          4.000000  \n",
       "75%          4.000000  \n",
       "max          5.000000  "
      ]
     },
     "execution_count": 76,
     "metadata": {},
     "output_type": "execute_result"
    }
   ],
   "source": [
    "df.describe()"
   ]
  },
  {
   "cell_type": "markdown",
   "id": "19e619b5",
   "metadata": {},
   "source": [
    "This cell gives us a lot of averages, descriptions, and mins and maxes for the dataset given above. The first thing I went to look at is the duration, but it shoudl be noted that it is written in milliseconds. To change milliseconds to minutes, we have to divide the value by 60,000). Let's do that!"
   ]
  },
  {
   "cell_type": "code",
   "execution_count": 77,
   "id": "d5da35fb",
   "metadata": {},
   "outputs": [
    {
     "data": {
      "text/plain": [
       "3.8190302030287158"
      ]
     },
     "execution_count": 77,
     "metadata": {},
     "output_type": "execute_result"
    }
   ],
   "source": [
    "(df['duration_ms'].mean())/60000"
   ]
  },
  {
   "cell_type": "code",
   "execution_count": 78,
   "id": "1157ec6d",
   "metadata": {},
   "outputs": [
    {
     "data": {
      "text/plain": [
       "87.28825"
      ]
     },
     "execution_count": 78,
     "metadata": {},
     "output_type": "execute_result"
    }
   ],
   "source": [
    "(df['duration_ms'].max())/60000"
   ]
  },
  {
   "cell_type": "code",
   "execution_count": 79,
   "id": "dd6be96f",
   "metadata": {},
   "outputs": [
    {
     "data": {
      "text/plain": [
       "1.8824623531681983"
      ]
     },
     "execution_count": 79,
     "metadata": {},
     "output_type": "execute_result"
    }
   ],
   "source": [
    "(df['duration_ms'].std())/60000"
   ]
  },
  {
   "cell_type": "markdown",
   "id": "7ed12f4b",
   "metadata": {},
   "source": [
    "With the above calculations, we have some easy to understand data from the dataset! On average, songs were 3.800 minutes (3 minutes and 48 seconds) long, with a standard deviation of 1.788 minutes (1 minute and 47 seconds). The maximum length of a song is 87.288 minutes (87 minutes and 17 seconds), and the minimum was 0 minutes. I did no further calculations for this zero value, considering 0/# = 0.\n",
    "\n",
    "Now, what song was the longest? Who wrote it? Let's see."
   ]
  },
  {
   "cell_type": "code",
   "execution_count": 80,
   "id": "5fd51ef3",
   "metadata": {},
   "outputs": [
    {
     "data": {
      "text/plain": [
       "5237295"
      ]
     },
     "execution_count": 80,
     "metadata": {},
     "output_type": "execute_result"
    }
   ],
   "source": [
    "df['duration_ms'].max()"
   ]
  },
  {
   "cell_type": "code",
   "execution_count": 89,
   "id": "1c1aa89b",
   "metadata": {},
   "outputs": [
    {
     "data": {
      "text/plain": [
       "73617    3Cnz3Bu9Wcw8p3kiBTXTxp\n",
       "Name: track_id, dtype: object"
      ]
     },
     "execution_count": 89,
     "metadata": {},
     "output_type": "execute_result"
    }
   ],
   "source": [
    "df['track_id'][df['duration_ms']==Out[80]]"
   ]
  },
  {
   "cell_type": "code",
   "execution_count": 90,
   "id": "6ea63146",
   "metadata": {},
   "outputs": [
    {
     "data": {
      "text/plain": [
       "73617    Unity (Voyage Mix) Pt. 1\n",
       "Name: track_name, dtype: object"
      ]
     },
     "execution_count": 90,
     "metadata": {},
     "output_type": "execute_result"
    }
   ],
   "source": [
    "df['track_name'][df['duration_ms']==Out[80]]"
   ]
  },
  {
   "cell_type": "code",
   "execution_count": 91,
   "id": "f07a69c6",
   "metadata": {},
   "outputs": [
    {
     "data": {
      "text/plain": [
       "73617    Tale Of Us\n",
       "Name: artists, dtype: object"
      ]
     },
     "execution_count": 91,
     "metadata": {},
     "output_type": "execute_result"
    }
   ],
   "source": [
    "df['artists'][df['duration_ms']==Out[80]]"
   ]
  },
  {
   "cell_type": "markdown",
   "id": "fb8df8d9",
   "metadata": {},
   "source": [
    "The longest song found in this dataset is \"Unity(Voyage Mix) Pt.1\" by the Tale of Us, a duo of artists."
   ]
  },
  {
   "cell_type": "markdown",
   "id": "741d6ce8",
   "metadata": {},
   "source": [
    "## Now that we went down that rabbit hole...\n",
    "\n",
    "Let's actually get on with what I wanted to look at in the beginnong of this project! What song is the most popular in this dataset? Who is it by? How long is it? Let's find all this out."
   ]
  },
  {
   "cell_type": "code",
   "execution_count": 84,
   "id": "e9385ed2",
   "metadata": {},
   "outputs": [
    {
     "data": {
      "text/plain": [
       "100"
      ]
     },
     "execution_count": 84,
     "metadata": {},
     "output_type": "execute_result"
    }
   ],
   "source": [
    "df['popularity'].max()"
   ]
  },
  {
   "cell_type": "code",
   "execution_count": 92,
   "id": "7d8551fe",
   "metadata": {},
   "outputs": [
    {
     "data": {
      "text/plain": [
       "20001    Unholy (feat. Kim Petras)\n",
       "Name: track_name, dtype: object"
      ]
     },
     "execution_count": 92,
     "metadata": {},
     "output_type": "execute_result"
    }
   ],
   "source": [
    "df['track_name'][df['popularity']==Out[84]]"
   ]
  },
  {
   "cell_type": "code",
   "execution_count": 93,
   "id": "8b47eb64",
   "metadata": {},
   "outputs": [
    {
     "data": {
      "text/plain": [
       "20001    Sam Smith;Kim Petras\n",
       "Name: artists, dtype: object"
      ]
     },
     "execution_count": 93,
     "metadata": {},
     "output_type": "execute_result"
    }
   ],
   "source": [
    "df['artists'][df['popularity']==Out[84]]"
   ]
  },
  {
   "cell_type": "code",
   "execution_count": 94,
   "id": "54903e7e",
   "metadata": {},
   "outputs": [
    {
     "data": {
      "text/plain": [
       "20001    Unholy (feat. Kim Petras)\n",
       "Name: album_name, dtype: object"
      ]
     },
     "execution_count": 94,
     "metadata": {},
     "output_type": "execute_result"
    }
   ],
   "source": [
    "df['album_name'][df['popularity']==Out[84]]"
   ]
  },
  {
   "cell_type": "code",
   "execution_count": 95,
   "id": "28b5e980",
   "metadata": {},
   "outputs": [
    {
     "data": {
      "text/plain": [
       "20001    3nqQXoyQOWXiESFLlDF1hG\n",
       "Name: track_id, dtype: object"
      ]
     },
     "execution_count": 95,
     "metadata": {},
     "output_type": "execute_result"
    }
   ],
   "source": [
    "df['track_id'][df['popularity']==Out[84]]"
   ]
  },
  {
   "cell_type": "code",
   "execution_count": 98,
   "id": "9bb4ffb0",
   "metadata": {},
   "outputs": [
    {
     "data": {
      "text/plain": [
       "20001    156943\n",
       "Name: duration_ms, dtype: int64"
      ]
     },
     "execution_count": 98,
     "metadata": {},
     "output_type": "execute_result"
    }
   ],
   "source": [
    "df['duration_ms'][df['popularity']==Out[84]]"
   ]
  },
  {
   "cell_type": "code",
   "execution_count": 99,
   "id": "c5e8fea6",
   "metadata": {},
   "outputs": [
    {
     "data": {
      "text/plain": [
       "20001    2.615717\n",
       "Name: duration_ms, dtype: float64"
      ]
     },
     "execution_count": 99,
     "metadata": {},
     "output_type": "execute_result"
    }
   ],
   "source": [
    "Out[98]/60000"
   ]
  },
  {
   "cell_type": "markdown",
   "id": "ab344813",
   "metadata": {},
   "source": [
    "Results! How lovely. So, in this dataset, 'Unholy' by Sam Smith (feat. Kim Petras) was the most popular song! Personally, I did listen to this song a lot, and now have it on while I am creating this. Absolute banger, if I do say so. 'Unholy' is listed as coming from the album also named 'Unholy', which really means it is a single (or was, before get grouped into the larger album 'Gloria' on Spotify by Sam Smith. This track_id was not included in the dataset, that is why 'Gloria' did not come up as the album name). It is a solid 2.616 minutes long (2 minutes and 37 seconds), and had a popularity score of 100! This is the highest you can get actually!\n",
    "\n",
    "What about danceability? Energy? Let's go look."
   ]
  },
  {
   "cell_type": "code",
   "execution_count": 103,
   "id": "84c0e708",
   "metadata": {},
   "outputs": [
    {
     "data": {
      "text/plain": [
       "20001    0.714\n",
       "Name: danceability, dtype: float64"
      ]
     },
     "execution_count": 103,
     "metadata": {},
     "output_type": "execute_result"
    }
   ],
   "source": [
    "df['danceability'][df['track_id']=='3nqQXoyQOWXiESFLlDF1hG']"
   ]
  },
  {
   "cell_type": "code",
   "execution_count": 104,
   "id": "7f8ed416",
   "metadata": {},
   "outputs": [
    {
     "data": {
      "text/plain": [
       "20001    0.472\n",
       "Name: energy, dtype: float64"
      ]
     },
     "execution_count": 104,
     "metadata": {},
     "output_type": "execute_result"
    }
   ],
   "source": [
    "df['energy'][df['track_id']=='3nqQXoyQOWXiESFLlDF1hG']"
   ]
  },
  {
   "cell_type": "code",
   "execution_count": 105,
   "id": "4fb6c730",
   "metadata": {},
   "outputs": [
    {
     "data": {
      "text/plain": [
       "20001    False\n",
       "Name: explicit, dtype: bool"
      ]
     },
     "execution_count": 105,
     "metadata": {},
     "output_type": "execute_result"
    }
   ],
   "source": [
    "df['explicit'][df['track_id']=='3nqQXoyQOWXiESFLlDF1hG']"
   ]
  },
  {
   "cell_type": "code",
   "execution_count": 106,
   "id": "1674cc7c",
   "metadata": {},
   "outputs": [
    {
     "data": {
      "text/plain": [
       "20001   -7.375\n",
       "Name: loudness, dtype: float64"
      ]
     },
     "execution_count": 106,
     "metadata": {},
     "output_type": "execute_result"
    }
   ],
   "source": [
    "df['loudness'][df['track_id']=='3nqQXoyQOWXiESFLlDF1hG']"
   ]
  },
  {
   "cell_type": "code",
   "execution_count": 107,
   "id": "f0ba6afd",
   "metadata": {},
   "outputs": [
    {
     "data": {
      "text/plain": [
       "20001    1\n",
       "Name: mode, dtype: int64"
      ]
     },
     "execution_count": 107,
     "metadata": {},
     "output_type": "execute_result"
    }
   ],
   "source": [
    "df['mode'][df['track_id']=='3nqQXoyQOWXiESFLlDF1hG']"
   ]
  },
  {
   "cell_type": "code",
   "execution_count": 108,
   "id": "65859044",
   "metadata": {},
   "outputs": [
    {
     "data": {
      "text/plain": [
       "20001    0.0864\n",
       "Name: speechiness, dtype: float64"
      ]
     },
     "execution_count": 108,
     "metadata": {},
     "output_type": "execute_result"
    }
   ],
   "source": [
    "df['speechiness'][df['track_id']=='3nqQXoyQOWXiESFLlDF1hG']"
   ]
  },
  {
   "cell_type": "code",
   "execution_count": 109,
   "id": "31ff8e16",
   "metadata": {},
   "outputs": [
    {
     "data": {
      "text/plain": [
       "20001    0.013\n",
       "Name: acousticness, dtype: float64"
      ]
     },
     "execution_count": 109,
     "metadata": {},
     "output_type": "execute_result"
    }
   ],
   "source": [
    "df['acousticness'][df['track_id']=='3nqQXoyQOWXiESFLlDF1hG']"
   ]
  },
  {
   "cell_type": "code",
   "execution_count": 110,
   "id": "a0e38107",
   "metadata": {},
   "outputs": [
    {
     "data": {
      "text/plain": [
       "20001    0.000005\n",
       "Name: instrumentalness, dtype: float64"
      ]
     },
     "execution_count": 110,
     "metadata": {},
     "output_type": "execute_result"
    }
   ],
   "source": [
    "df['instrumentalness'][df['track_id']=='3nqQXoyQOWXiESFLlDF1hG']"
   ]
  },
  {
   "cell_type": "code",
   "execution_count": 111,
   "id": "0d9a02f0",
   "metadata": {},
   "outputs": [
    {
     "data": {
      "text/plain": [
       "20001    0.266\n",
       "Name: liveness, dtype: float64"
      ]
     },
     "execution_count": 111,
     "metadata": {},
     "output_type": "execute_result"
    }
   ],
   "source": [
    "df['liveness'][df['track_id']=='3nqQXoyQOWXiESFLlDF1hG']"
   ]
  },
  {
   "cell_type": "code",
   "execution_count": 112,
   "id": "2b4b3c43",
   "metadata": {},
   "outputs": [
    {
     "data": {
      "text/plain": [
       "20001    0.238\n",
       "Name: valence, dtype: float64"
      ]
     },
     "execution_count": 112,
     "metadata": {},
     "output_type": "execute_result"
    }
   ],
   "source": [
    "df['valence'][df['track_id']=='3nqQXoyQOWXiESFLlDF1hG']"
   ]
  },
  {
   "cell_type": "code",
   "execution_count": 113,
   "id": "21262fbe",
   "metadata": {},
   "outputs": [
    {
     "data": {
      "text/plain": [
       "20001    131.121\n",
       "Name: tempo, dtype: float64"
      ]
     },
     "execution_count": 113,
     "metadata": {},
     "output_type": "execute_result"
    }
   ],
   "source": [
    "df['tempo'][df['track_id']=='3nqQXoyQOWXiESFLlDF1hG']"
   ]
  },
  {
   "cell_type": "code",
   "execution_count": 114,
   "id": "fa4b0af0",
   "metadata": {},
   "outputs": [
    {
     "data": {
      "text/plain": [
       "20001    4\n",
       "Name: time_signature, dtype: int64"
      ]
     },
     "execution_count": 114,
     "metadata": {},
     "output_type": "execute_result"
    }
   ],
   "source": [
    "df['time_signature'][df['track_id']=='3nqQXoyQOWXiESFLlDF1hG']"
   ]
  },
  {
   "cell_type": "code",
   "execution_count": 115,
   "id": "9943215f",
   "metadata": {},
   "outputs": [
    {
     "data": {
      "text/plain": [
       "20001    dance\n",
       "Name: track_genre, dtype: object"
      ]
     },
     "execution_count": 115,
     "metadata": {},
     "output_type": "execute_result"
    }
   ],
   "source": [
    "df['track_genre'][df['track_id']=='3nqQXoyQOWXiESFLlDF1hG']"
   ]
  },
  {
   "cell_type": "markdown",
   "id": "683bfcbc",
   "metadata": {},
   "source": [
    "## That is a lot of data. Let's simplify it. \n",
    "\n",
    "So here's what we have for 'Unholy' by Sam Smith. \n",
    "- Danceability = 0.714\n",
    "- Energy = 0.472\n",
    "- Is it explicit? = No\n",
    "- Loudness = -7.375\n",
    "- Mode = 1\n",
    "- Speechiness = 0.0864\n",
    "- Acousticness = 0.013\n",
    "- Instrumentalness = 0.000005\n",
    "- Valence = 0.238\n",
    "- Tempo = 131.121\n",
    "- Time Signature = 4\n",
    "- Track Genre = Dance"
   ]
  },
  {
   "cell_type": "markdown",
   "id": "ea70a7ff",
   "metadata": {},
   "source": [
    "What about as a whole? What genre is the most common in this dataset?"
   ]
  },
  {
   "cell_type": "code",
   "execution_count": 119,
   "id": "95c5d741",
   "metadata": {},
   "outputs": [
    {
     "data": {
      "text/plain": [
       "acoustic     1000\n",
       "alt-rock      999\n",
       "tango         999\n",
       "ambient       999\n",
       "afrobeat      999\n",
       "             ... \n",
       "metal         232\n",
       "punk          226\n",
       "house         210\n",
       "indie         134\n",
       "reggaeton      74\n",
       "Name: track_genre, Length: 113, dtype: int64"
      ]
     },
     "execution_count": 119,
     "metadata": {},
     "output_type": "execute_result"
    }
   ],
   "source": [
    "count = df['track_genre'].value_counts()\n",
    "count"
   ]
  },
  {
   "cell_type": "markdown",
   "id": "8fed8020",
   "metadata": {},
   "source": [
    "The most common genre was acoustic in this dataset, followed by alt-rock, tango, ambient, and afrobeat. At the bottom is reggaeton, with a small 74 songs out of 89741 in this data set (that's 0.0825%!)\n",
    "\n",
    "Here's a quick breakdown of the others.\n",
    "- acoustic = 11.143%\n",
    "- alt-rock = 11.132%\n",
    "- tango = 11.132%\n",
    "- ambient = 11.132%\n",
    "- afrobeat = 11.132%\n",
    "- metal = 0.239%\n",
    "- punk = 0.2518%\n",
    "- house = 0.2340%\n",
    "- indie = 0.01493%\n",
    "- reggaeton = 0.0825%"
   ]
  },
  {
   "cell_type": "code",
   "execution_count": 130,
   "id": "d6ddfbdc",
   "metadata": {},
   "outputs": [
    {
     "data": {
      "text/plain": [
       "0.6344578983586125"
      ]
     },
     "execution_count": 130,
     "metadata": {},
     "output_type": "execute_result"
    }
   ],
   "source": [
    "df['energy'].mean()"
   ]
  },
  {
   "cell_type": "code",
   "execution_count": 131,
   "id": "16e7b0aa",
   "metadata": {},
   "outputs": [
    {
     "data": {
      "text/plain": [
       "0.5621656734380037"
      ]
     },
     "execution_count": 131,
     "metadata": {},
     "output_type": "execute_result"
    }
   ],
   "source": [
    "df['danceability'].mean()"
   ]
  },
  {
   "cell_type": "code",
   "execution_count": 132,
   "id": "0acbc04a",
   "metadata": {},
   "outputs": [
    {
     "data": {
      "text/plain": [
       "33.198437726345816"
      ]
     },
     "execution_count": 132,
     "metadata": {},
     "output_type": "execute_result"
    }
   ],
   "source": [
    "df['popularity'].mean()"
   ]
  },
  {
   "cell_type": "markdown",
   "id": "c7a6d651",
   "metadata": {},
   "source": [
    "## A Summary!\n",
    "\n",
    "So, in trecking through this data, we found out a lot of things! First off, the most popular song in this dataset is 'Unholy' by Sam Smith (feat. Kim Petra). It was a solid 2 minutes and 37 seconds long, fell into the 'dance' genre of music, and much more;\n",
    "\n",
    "- Danceability = 0.714\n",
    "- Energy = 0.472\n",
    "- Is it explicit? = No\n",
    "Note: It's not EXPLICIT but it is (explicit) in idea (if you know you know)\n",
    "- Loudness = -7.375\n",
    "- Mode = 1\n",
    "- Speechiness = 0.0864\n",
    "- Acousticness = 0.013\n",
    "- Instrumentalness = 0.000005\n",
    "- Valence = 0.238\n",
    "- Tempo = 131.121\n",
    "- Time Signature = 4\n",
    "\n",
    "\n",
    "We also learned that the average length for songs in this dataset is 3 minutes and 48 seconds, with a standard deviation of 1 minute and 47 seconds and a max length of 87 minutes and 17 seconds with 'Unity (Voyage Mix) Pt.1' by Tale of Us.\n",
    "\n",
    "Last of all, found how common certain genres were...\n",
    "- acoustic = 11.143%\n",
    "- alt-rock = 11.132%\n",
    "- tango = 11.132%\n",
    "- ambient = 11.132%\n",
    "- afrobeat = 11.132%\n",
    "- metal = 0.239%\n",
    "- punk = 0.2518%\n",
    "- house = 0.2340%\n",
    "- indie = 0.01493%\n",
    "- reggaeton = 0.0825%\n",
    "\n",
    "...and the average stats for danceability, energy, and popularity!\n",
    "- Average Danceability = .562\n",
    "- Average Energy = .634\n",
    "- Average Popularity = 33.198"
   ]
  },
  {
   "cell_type": "code",
   "execution_count": null,
   "id": "95c9781e",
   "metadata": {},
   "outputs": [],
   "source": []
  }
 ],
 "metadata": {
  "kernelspec": {
   "display_name": "Python 3 (ipykernel)",
   "language": "python",
   "name": "python3"
  },
  "language_info": {
   "codemirror_mode": {
    "name": "ipython",
    "version": 3
   },
   "file_extension": ".py",
   "mimetype": "text/x-python",
   "name": "python",
   "nbconvert_exporter": "python",
   "pygments_lexer": "ipython3",
   "version": "3.9.13"
  }
 },
 "nbformat": 4,
 "nbformat_minor": 5
}
